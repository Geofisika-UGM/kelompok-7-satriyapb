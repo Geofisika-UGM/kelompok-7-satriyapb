{
 "cells": [
  {
   "cell_type": "code",
   "execution_count": 17,
   "id": "aeb0c8ac",
   "metadata": {},
   "outputs": [
    {
     "name": "stdout",
     "output_type": "stream",
     "text": [
      "Selamat Datang di Program Sini Sama OHM\n",
      "Input tegangan dalam Volt: 3\n",
      "Input arus dalam Ampere: 1\n",
      "pesan jumlah resistor dalam ohm: 8\n",
      "Elemen Resistor (Rn, p atau s): 1 s 1 s 1 p 1 p 3 s\n",
      "True\n"
     ]
    }
   ],
   "source": [
    "#deklarasi input\n",
    "\n",
    "print('Selamat Datang di Program Sini Sama OHM')\n",
    "V = input('Input tegangan dalam Volt: ')\n",
    "I = input('Input arus dalam Ampere: ')\n",
    "R = int(input('pesan jumlah resistor dalam ohm: ')) #pesan array dengan jumlah elemen tertentu\n",
    "y=list(map(str, input('Elemen Resistor (Rn, p atau s): ').strip().split())) #ini string\n",
    "\n",
    "#deklarasi process dalam program\n",
    "\n",
    "class semua():\n",
    "    \n",
    "    def resistance(array):\n",
    "        if isinstance(array, int):\n",
    "            return array\n",
    "        else:\n",
    "            if isinstance(array,list):\n",
    "                temp = array\n",
    "            else:\n",
    "                temp = array.split(\" \")\n",
    "                i = 0\n",
    "        while True:\n",
    "            try:\n",
    "                a = new_resistance(temp[i], temp[i+1], temp[i+2])\n",
    "            except Exception as e:\n",
    "                i += 1            \n",
    "            if len(temp[i+3:]) == 0:\n",
    "                return resistance(new_resistance(temp[i], temp[i+1], temp[i+2]))\n",
    "            else:\n",
    "                return resistance(temp[:i] + [new_resistance(temp[i], temp[i+1], temp[i+2])] + temp[i+3:])\n",
    "        \n",
    "    def tipe_rangkaian():\n",
    "        if pararel==p:\n",
    "            return(0)\n",
    "        else:\n",
    "            seri==s\n",
    "            return (0)\n",
    "        \n",
    "    def R_total():\n",
    "        if tipe_rangkaian==p:\n",
    "            Rs_total=str(float(1/R1) + float(1/R2)+ float(1/R3)) \n",
    "        \n",
    "        elif tipe_rangkaian==s:\n",
    "            Rp_total=str(float(1/R1) + float(1/R2)+ float(1/R3)) \n",
    "            \n",
    "        R1_total=Rs_total+Rp_total\n",
    "        return R_total\n",
    "    \n",
    "    def hukumohm(self,V,I,y):\n",
    "        self.V=V\n",
    "        self.I=I\n",
    "        self.y=y\n",
    "        \n",
    "        R2_total== str(float(V)/float(I))  \n",
    "        return R2_total\n",
    "\n",
    "R12=R1_total=R2_total=True\n",
    "\n",
    "a=semua()\n",
    "\n",
    "#deklarasi output\n",
    "\n",
    "\n",
    "print (a.hukumohm(V,I,y))\n",
    "\n"
   ]
  },
  {
   "cell_type": "markdown",
   "id": "a747948a",
   "metadata": {},
   "source": [
    "# Akhirnya ga eror lagi, tinggal butuh arah programnya mau dibawa ke mana?"
   ]
  },
  {
   "cell_type": "code",
   "execution_count": null,
   "id": "364e6545",
   "metadata": {},
   "outputs": [],
   "source": []
  }
 ],
 "metadata": {
  "kernelspec": {
   "display_name": "Python 3 (ipykernel)",
   "language": "python",
   "name": "python3"
  },
  "language_info": {
   "codemirror_mode": {
    "name": "ipython",
    "version": 3
   },
   "file_extension": ".py",
   "mimetype": "text/x-python",
   "name": "python",
   "nbconvert_exporter": "python",
   "pygments_lexer": "ipython3",
   "version": "3.10.6"
  }
 },
 "nbformat": 4,
 "nbformat_minor": 5
}
