{
 "cells": [
  {
   "cell_type": "code",
   "execution_count": 6,
   "id": "aeb0c8ac",
   "metadata": {},
   "outputs": [
    {
     "name": "stdout",
     "output_type": "stream",
     "text": [
      "Selamat Datang di Program Sini Sama OHM\n"
     ]
    },
    {
     "ename": "ValueError",
     "evalue": "invalid literal for int() with base 10: ''",
     "output_type": "error",
     "traceback": [
      "\u001b[1;31m---------------------------------------------------------------------------\u001b[0m",
      "\u001b[1;31mValueError\u001b[0m                                Traceback (most recent call last)",
      "Cell \u001b[1;32mIn [6], line 6\u001b[0m\n\u001b[0;32m      4\u001b[0m V \u001b[39m=\u001b[39m \u001b[39minput\u001b[39m(\u001b[39m'\u001b[39m\u001b[39mInput tegangan dalam Volt: \u001b[39m\u001b[39m'\u001b[39m)\n\u001b[0;32m      5\u001b[0m I \u001b[39m=\u001b[39m \u001b[39minput\u001b[39m(\u001b[39m'\u001b[39m\u001b[39mInput arus dalam Ampere: \u001b[39m\u001b[39m'\u001b[39m)\n\u001b[1;32m----> 6\u001b[0m R \u001b[39m=\u001b[39m \u001b[39mint\u001b[39;49m(\u001b[39minput\u001b[39;49m(\u001b[39m'\u001b[39;49m\u001b[39mpesan jumlah resistor dalam ohm: \u001b[39;49m\u001b[39m'\u001b[39;49m)) \u001b[39m#pesan array dengan jumlah elemen tertentu\u001b[39;00m\n\u001b[0;32m      7\u001b[0m y\u001b[39m=\u001b[39m\u001b[39mlist\u001b[39m(\u001b[39mmap\u001b[39m(\u001b[39mstr\u001b[39m, \u001b[39minput\u001b[39m(\u001b[39m'\u001b[39m\u001b[39mElemen Resistor (Rn, p atau s): \u001b[39m\u001b[39m'\u001b[39m)\u001b[39m.\u001b[39mstrip()\u001b[39m.\u001b[39msplit())) \u001b[39m#ini string\u001b[39;00m\n\u001b[0;32m      9\u001b[0m \u001b[39m#deklarasi process dalam program\u001b[39;00m\n",
      "\u001b[1;31mValueError\u001b[0m: invalid literal for int() with base 10: ''"
     ]
    }
   ],
   "source": [
    "#deklarasi input\n",
    "\n",
    "print('Selamat Datang di Program Sini Sama OHM')\n",
    "V = input('Input tegangan dalam Volt: ')\n",
    "I = input('Input arus dalam Ampere: ')\n",
    "R = int(input('pesan jumlah resistor dalam ohm: ')) #pesan array dengan jumlah elemen tertentu\n",
    "y=list(map(str, input('Elemen Resistor (Rn, p atau s): ').strip().split())) #ini string\n",
    "\n",
    "#deklarasi process dalam program\n",
    "\n",
    "class semua():\n",
    "    \n",
    "    def resistance(array):\n",
    "        if isinstance(array, int):\n",
    "            return array\n",
    "        else:\n",
    "            if isinstance(array,list):\n",
    "                temp = array\n",
    "            else:\n",
    "                temp = array.split(\" \")\n",
    "                i = 0\n",
    "        while True:\n",
    "            try:\n",
    "                a = new_resistance(temp[i], temp[i+1], temp[i+2])\n",
    "            except Exception as e:\n",
    "                i += 1            \n",
    "            if len(temp[i+3:]) == 0:\n",
    "                return resistance(new_resistance(temp[i], temp[i+1], temp[i+2]))\n",
    "            else:\n",
    "                return resistance(temp[:i] + [new_resistance(temp[i], temp[i+1], temp[i+2])] + temp[i+3:])\n",
    "        \n",
    "    def tipe_rangkaian():\n",
    "        if pararel==p:\n",
    "            return(0)\n",
    "        else:\n",
    "            seri==s\n",
    "            return (0)\n",
    "        \n",
    "    def R_total():\n",
    "        if tipe_rangkaian==p:\n",
    "            Rs_total=str(float(1/R1) + float(1/R2)+ float(1/R3)) \n",
    "        \n",
    "        elif tipe_rangkaian==s:\n",
    "            Rp_total=str(float(1/R1) + float(1/R2)+ float(1/R3)) \n",
    "            \n",
    "        R1_total=Rs_total+Rp_total\n",
    "        return R_total\n",
    "    \n",
    "    def hukumohm(self,V,I,y):\n",
    "        self.V=V\n",
    "        self.I=I\n",
    "        self.y=y\n",
    "        \n",
    "        R2_total== str(float(V)/float(I))  \n",
    "        return R2_total\n",
    "\n",
    "R12=R1_total=R2_total=True\n",
    "\n",
    "a=semua()\n",
    "\n",
    "#deklarasi output\n",
    "\n",
    "\n",
    "print (a.hukumohm(V,I,y))\n",
    "\n"
   ]
  },
  {
   "cell_type": "markdown",
   "id": "a747948a",
   "metadata": {},
   "source": [
    "# Akhirnya ga eror lagi, tinggal butuh arah programnya mau dibawa ke mana?"
   ]
  },
  {
   "cell_type": "markdown",
   "id": "364e6545",
   "metadata": {},
   "source": [
    "    Kucoba ya ges konsepnya nanti kan ini ku bikin pisah2, fungsi buat seri sama paralel. Ntar di koding utama digabung (yg aku gatau caranya)"
   ]
  },
  {
   "cell_type": "code",
   "execution_count": 11,
   "id": "5d25746e",
   "metadata": {},
   "outputs": [
    {
     "name": "stdout",
     "output_type": "stream",
     "text": [
      "Total resistansi = 6.0 Ohms\n"
     ]
    }
   ],
   "source": [
    "# Ini buat ngitung loop seri\n",
    "\n",
    "def ser_resistance (jumlah):\n",
    "    ser_res_total = 0\n",
    "    ser_res_besar = []\n",
    "    ser_count = 0\n",
    "\n",
    "    while ser_count < jumlah:\n",
    "        try:\n",
    "            ser_res_nilai=float(input('Masukkan Nilai Resistensi dalam Ohm : '))\n",
    "            ser_res_besar.append(ser_res_nilai)\n",
    "            ser_res_total += ser_res_nilai\n",
    "            ser_count += 1\n",
    "\n",
    "        except ValueError as e:\n",
    "            print('Besaran Resistor', e)\n",
    "            continue\n",
    "    \n",
    "    print(\"Total resistansi = {} Ohms\".format(ser_res_total))\n",
    "    return\n",
    "\n",
    "jumlah_resistor = int(input(\"Masukkan jumlah resistor: \"))\n",
    "ser_resistance(jumlah_resistor)"
   ]
  },
  {
   "cell_type": "code",
   "execution_count": 22,
   "id": "89ea5947",
   "metadata": {},
   "outputs": [
    {
     "ename": "ZeroDivisionError",
     "evalue": "division by zero",
     "output_type": "error",
     "traceback": [
      "\u001b[1;31m---------------------------------------------------------------------------\u001b[0m",
      "\u001b[1;31mZeroDivisionError\u001b[0m                         Traceback (most recent call last)",
      "Cell \u001b[1;32mIn [22], line 28\u001b[0m\n\u001b[0;32m     25\u001b[0m     \u001b[39mreturn\u001b[39;00m\n\u001b[0;32m     27\u001b[0m jumlah_resistor \u001b[39m=\u001b[39m \u001b[39mint\u001b[39m(\u001b[39minput\u001b[39m(\u001b[39m'\u001b[39m\u001b[39mMasukkan jumlah Resistor : \u001b[39m\u001b[39m'\u001b[39m))\n\u001b[1;32m---> 28\u001b[0m par_resistance(jumlah_resistor)\n",
      "Cell \u001b[1;32mIn [22], line 20\u001b[0m, in \u001b[0;36mpar_resistance\u001b[1;34m(jumlah)\u001b[0m\n\u001b[0;32m     17\u001b[0m         \u001b[39mcontinue\u001b[39;00m\n\u001b[0;32m     19\u001b[0m \u001b[39mfor\u001b[39;00m r \u001b[39min\u001b[39;00m \u001b[39mrange\u001b[39m(\u001b[39mint\u001b[39m(par_res_nilai)):\n\u001b[1;32m---> 20\u001b[0m     jum_par_res \u001b[39m+\u001b[39m\u001b[39m=\u001b[39m \u001b[39m1\u001b[39;49m\u001b[39m/\u001b[39;49mr\n\u001b[0;32m     22\u001b[0m par_res_total \u001b[39m=\u001b[39m \u001b[39m1\u001b[39m\u001b[39m/\u001b[39mjum_par_res\n\u001b[0;32m     24\u001b[0m \u001b[39mprint\u001b[39m(\u001b[39m'\u001b[39m\u001b[39mTotal resistensi = \u001b[39m\u001b[39m{}\u001b[39;00m\u001b[39m Ohms\u001b[39m\u001b[39m'\u001b[39m\u001b[39m.\u001b[39mformat(par_res_total))\n",
      "\u001b[1;31mZeroDivisionError\u001b[0m: division by zero"
     ]
    }
   ],
   "source": [
    "# ini buat ngitung paralel\n",
    "\n",
    "def par_resistance (jumlah):\n",
    "    par_res_total = 0\n",
    "    par_res_besar = []\n",
    "    jum_par_res = 0\n",
    "    par_count = 0\n",
    "\n",
    "    while par_count < jumlah:\n",
    "        try:\n",
    "            par_res_nilai = float(input('Masukkan Nilai Resistensi dalam Ohm :'))\n",
    "            par_res_besar.append(par_res_nilai)\n",
    "            par_count += 1\n",
    "        \n",
    "        except ValueError as e:\n",
    "            print('Besar Resistor', e)\n",
    "            continue\n",
    "    \n",
    "    for r in range(int(par_res_nilai)):\n",
    "        jum_par_res += 1/r\n",
    "\n",
    "    par_res_total = 1/jum_par_res\n",
    "\n",
    "    print('Total resistensi = {} Ohms'.format(par_res_total))\n",
    "    return\n",
    "\n",
    "jumlah_resistor = int(input('Masukkan jumlah Resistor : '))\n",
    "par_resistance(jumlah_resistor)\n",
    "\n",
    "\n",
    "# Masih error gatau"
   ]
  },
  {
   "cell_type": "code",
   "execution_count": null,
   "id": "7470ab4b",
   "metadata": {},
   "outputs": [],
   "source": [
    "# ini koding utama\n",
    "\n",
    "def main ():\n",
    "    "
   ]
  }
 ],
 "metadata": {
  "kernelspec": {
   "display_name": "Python 3.9.13 ('MAG')",
   "language": "python",
   "name": "python3"
  },
  "language_info": {
   "codemirror_mode": {
    "name": "ipython",
    "version": 3
   },
   "file_extension": ".py",
   "mimetype": "text/x-python",
   "name": "python",
   "nbconvert_exporter": "python",
   "pygments_lexer": "ipython3",
   "version": "3.9.13"
  },
  "vscode": {
   "interpreter": {
    "hash": "a7b066f0735a96a6432840b9f272a94ce81c64ac3b0b1b50914a258b9221fb5e"
   }
  }
 },
 "nbformat": 4,
 "nbformat_minor": 5
}
