{
 "cells": [
  {
   "cell_type": "markdown",
   "id": "e34dfe01",
   "metadata": {},
   "source": [
    "# Step by step making an application"
   ]
  },
  {
   "cell_type": "markdown",
   "id": "8f629e4e",
   "metadata": {},
   "source": [
    "# OHM'Law Application"
   ]
  },
  {
   "cell_type": "code",
   "execution_count": 20,
   "id": "b8b70e8c",
   "metadata": {},
   "outputs": [
    {
     "ename": "IndentationError",
     "evalue": "expected an indented block after 'if' statement on line 12 (2788062639.py, line 13)",
     "output_type": "error",
     "traceback": [
      "\u001b[1;36m  Input \u001b[1;32mIn [20]\u001b[1;36m\u001b[0m\n\u001b[1;33m    elif seri==s:\u001b[0m\n\u001b[1;37m    ^\u001b[0m\n\u001b[1;31mIndentationError\u001b[0m\u001b[1;31m:\u001b[0m expected an indented block after 'if' statement on line 12\n"
     ]
    }
   ],
   "source": [
    "print('Selamat Datang di Program Sini Sama OHM')\n",
    "Volt=int\n",
    "Arus=int\n",
    "V = input(Volt, 'Volt')\n",
    "I = input(Arus, 'Ampere')\n",
    "R = int(input(\"Number of elements in the array:\")) #pesan array dengan jumlah elemen tertentu\n",
    "y=list(map(str, input(\"elements of array (Rn, p atau s):\").strip().split())) #ini string\n",
    "\n",
    "\n",
    "class semua:\n",
    "    def tipe_rangkaian():\n",
    "        if pararel==p:\n",
    "        elif seri==s:\n",
    "        \n",
    "    def R_total():\n",
    "        if tipe_rangkaian==p:\n",
    "        R_total=1/R1+1/R2+1/R3 #string ga bisa kaya gini\n",
    "        \n",
    "        elif tipe_rangkaian==s:\n",
    "        R_total=R1+R2+R3 #string ga bisa kaya gini\n",
    "    \n",
    "    def hukumohm(self,V,I,R_total):\n",
    "    self.V=V\n",
    "    self.I=I\n",
    "    self.R_total=R_total\n",
    "    \n",
    "    R_total==V/I(True) #string ga bisa kaya gini\n",
    "    return R_total\n",
    "\n",
    "a=semua(V,I,R1,R2,R3)\n",
    "print (a.R_total())\n",
    "print (a.hukumohm())\n",
    "\n",
    "if __name__ == ‘__main__’"
   ]
  },
  {
   "cell_type": "markdown",
   "id": "2f5c63e1",
   "metadata": {},
   "source": [
    "# Declaimer\n",
    "## ini adalahah program kasaranannya secara umum jadi masih eror "
   ]
  },
  {
   "cell_type": "code",
   "execution_count": null,
   "id": "b8702680",
   "metadata": {},
   "outputs": [],
   "source": []
  }
 ],
 "metadata": {
  "kernelspec": {
   "display_name": "Python 3 (ipykernel)",
   "language": "python",
   "name": "python3"
  },
  "language_info": {
   "codemirror_mode": {
    "name": "ipython",
    "version": 3
   },
   "file_extension": ".py",
   "mimetype": "text/x-python",
   "name": "python",
   "nbconvert_exporter": "python",
   "pygments_lexer": "ipython3",
   "version": "3.10.6"
  }
 },
 "nbformat": 4,
 "nbformat_minor": 5
}
